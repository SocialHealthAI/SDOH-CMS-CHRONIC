{
 "cells": [
  {
   "cell_type": "markdown",
   "id": "d1c038d5-e1bf-40e7-8b79-a9d1da1ba6a2",
   "metadata": {},
   "source": [
    "Establish environment by installing any packages needed and define imports and extensions.  Record all packages in a yaml file.  This could be handled by setting up a conda enviroment:\n",
    "\n",
    "##### check conda version\n",
    "    !conda --version\n",
    "\n",
    "##### install conda colab\n",
    "    !pip install -q condacolab<br>\n",
    "    import condacolab<br>\n",
    "    condacolab.install()\n",
    "\n",
    "##### record environment in yaml file\n",
    "    !conda env export > env1.yml\n",
    "\n",
    "##### to set up conda env based on yaml:\n",
    "    https://github.com/conda-incubator/condacolab\n"
   ]
  },
  {
   "cell_type": "code",
   "execution_count": 1,
   "id": "9107934a-e860-4e21-b8d3-4f70a93edaa1",
   "metadata": {},
   "outputs": [],
   "source": [
    "# use base env\n",
    "\n",
    "# define imports for all notebooks\n",
    "import pandas as pd\n",
    "from scipy import stats\n",
    "import matplotlib.pyplot as plt\n",
    "import numpy as np\n",
    "import seaborn as sns\n",
    "from seaborn import scatterplot\n",
    "import warnings\n",
    "import requests\n",
    "\n",
    "import sklearn\n",
    "from sklearn.model_selection import train_test_split\n",
    "from sklearn.model_selection import cross_val_score\n",
    "from sklearn.model_selection import RepeatedStratifiedKFold\n",
    "from sklearn.ensemble import RandomForestClassifier\n",
    "from sklearn.ensemble import RandomForestRegressor\n",
    "from sklearn.metrics import RocCurveDisplay\n",
    "from sklearn.metrics import r2_score\n",
    "\n",
    "# warnings\n",
    "warnings.filterwarnings(\"ignore\")\n",
    "\n",
    "# define extensions\n",
    "%matplotlib ipympl\n",
    "%matplotlib inline\n",
    "\n",
    "# record environment\n",
    "!pip list -v > env1.txt"
   ]
  },
  {
   "cell_type": "code",
   "execution_count": null,
   "id": "2d574c0e-d1b3-44af-918f-84eed5590a1f",
   "metadata": {},
   "outputs": [],
   "source": []
  }
 ],
 "metadata": {
  "kernelspec": {
   "display_name": "Python 3",
   "language": "python",
   "name": "python3"
  },
  "language_info": {
   "codemirror_mode": {
    "name": "ipython",
    "version": 3
   },
   "file_extension": ".py",
   "mimetype": "text/x-python",
   "name": "python",
   "nbconvert_exporter": "python",
   "pygments_lexer": "ipython3",
   "version": "3.9.12"
  }
 },
 "nbformat": 4,
 "nbformat_minor": 5
}
