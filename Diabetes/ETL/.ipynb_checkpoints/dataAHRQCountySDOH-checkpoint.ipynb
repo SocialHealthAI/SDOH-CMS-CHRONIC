{
 "cells": [
  {
   "cell_type": "markdown",
   "id": "f7b68dc6-7fd3-4b2b-8776-9685b92c380e",
   "metadata": {},
   "source": [
    "Provide function out_AHRQCountySDOH() to return dataframe for AHRQ County level SDOH.  See https://www.ahrq.gov/sdoh/data-analytics/sdoh-data.html and https://www.ahrq.gov/sites/default/files/wysiwyg/sdoh/SDOH-Data-Sources-Documentation-v1-Final.pdf\n",
    "\n",
    "Input parameters:\n",
    "- parm_AHRQCountySDOH_years: list of survey years\n",
    "- parm_AHRQCountySDOH_surveys: list of surveys to extract\n",
    "- parm_AHRQCountySDOH_questions: list of questions to extract\n",
    "\n",
    "Typical surveys to use include:\n",
    "\n",
    "[\"ACS\", \"AHA\", \"AMFAR\", \"CAF\", \"CCBP\", \"CDCSVI\", \"CEN\", \"CRDC\", \"EPAA\", \"FARA\", \"FEA\", \"HHC\", \"HIFLD\", \"HRSA\", \"MHSVI\", \"MP\", \"NCHS\", \"NEPHTN\", \"NHC\", \"NOAAC\", \"NOAAS\", \"POS\", \"SAHIE\", \"SAIPE\", \"SEDA\"]\n",
    "\n",
    "These surveys are health outcomes and would not be used as SDOH:\n",
    "\n",
    "    AHRF, CDCA, CDCAP, CDCP, CDCW, CHR and MGV\n",
    "    \n",
    "However, CDCW and CHR have some SDOH questions which could be used in the list of questions:\n",
    "\n",
    "[\"CDCW_INJURY_DTH_RATE\", \"CDCW_TRANSPORT_DTH_RATE\", \"CDCW_SELFHARM_DTH_RATE\", \"CDCW_ASSAULT_DTH_RATE\", \"CHR_TOT_MENTAL_PROV\", \"CHR_MENTAL_PROV_RATE\", \"CHR_SEGREG_BLACK\", \"CHR_PCT_ALCOHOL_DRIV_DEATH\", \"CHR_PCT_EXCESS_DRINK\", \"CHR_PCT_FOOD\", \"CHR_SEGREG_BLACK\", \"CHR_SEGREG_NON_WHITE\"]\n",
    "\n",
    "Note 2018 has some behavioral health questions which could be used:\n",
    "\n",
    "[\"CDCP_NO_PHY_ACTV_ADULT_A\", \"CDCP_NO_PHY_ACTV_ADULT_C\", \"CDCP_SLEEP_LESS7HR_ADULT_A\", \"CDCP_SLEEP_LESS7HR_ADULT_C\"]\n"
   ]
  },
  {
   "cell_type": "markdown",
   "id": "9fcadad3-4ccf-4676-acbd-5fdba5c38a33",
   "metadata": {},
   "source": [
    "### For standalone testing"
   ]
  },
  {
   "cell_type": "code",
   "execution_count": 84,
   "id": "e6bb6949-0052-425f-933c-570dc6c3fee3",
   "metadata": {},
   "outputs": [],
   "source": [
    "#%run .././environment/env1.ipynb\n",
    "#parm_AHRQCountySDOH_years = ['2015', '2016', '2017']\n",
    "#parm_AHRQCountySDOH_surveys = [\"ACS\", \"AHA\", \"AMFAR\", \"CAF\", \"CCBP\", \"CDCSVI\", \"CEN\", \"CRDC\", \"EPAA\", \"FARA\", \"FEA\", \"HHC\", \"HIFLD\", \"HRSA\", \"MHSVI\", \"MP\", \"NCHS\", \"NEPHTN\", \"NHC\", \"NOAAS\", \"POS\", \"SAHIE\", \"SAIPE\", \"SEDA\"]\n",
    "#parm_AHRQCountySDOH_questions = [\"CDCW_INJURY_DTH_RATE\", \"CDCW_TRANSPORT_DTH_RATE\", \"CDCW_SELFHARM_DTH_RATE\", \"CDCW_ASSAULT_DTH_RATE\", \"CHR_TOT_MENTAL_PROV\", \"CHR_MENTAL_PROV_RATE\", \"CHR_SEGREG_BLACK\", \"CHR_PCT_ALCOHOL_DRIV_DEATH\", \"CHR_PCT_EXCESS_DRINK\", \"CHR_PCT_FOOD\", \"CHR_SEGREG_BLACK\", \"CHR_SEGREG_NON_WHITE\"]"
   ]
  },
  {
   "cell_type": "markdown",
   "id": "bb037498-c78b-47cc-9152-f263c0b38b42",
   "metadata": {},
   "source": [
    "### Extract data"
   ]
  },
  {
   "cell_type": "code",
   "execution_count": 85,
   "id": "883bb635-9ee5-40cc-86f4-b20a5eacdb37",
   "metadata": {},
   "outputs": [],
   "source": [
    "AHRQCountySDOH_year = parm_AHRQCountySDOH_years.pop(0)\n",
    "\n",
    "# Import the first excel file and create dataframe\n",
    "url = 'https://www.ahrq.gov/sites/default/files/wysiwyg/sdoh/SDOH_'+  AHRQCountySDOH_year +'_COUNTY_1_0.xlsx'\n",
    "r = requests.get(url)\n",
    "with open('./ahrq.xlsx', 'wb') as f:\n",
    "    f.write(r.content) \n",
    "dfAHRQCountySDOH = pd.read_excel('./ahrq.xlsx', sheet_name = 'Data')\n",
    "dfAHRQCountySDOH = dfAHRQCountySDOH.drop(dfAHRQCountySDOH.columns[[ 0,1,2,5,6 ]],axis = 1)\n",
    "dfAHRQCountySDOH['YEAR'] =  parm_AHRQCountySDOH_year\n",
    "\n",
    "# Import the remaining excel files and append to dataframe\n",
    "for AHRQCountySDOH_year in parm_AHRQCountySDOH_years:\n",
    "    url = 'https://www.ahrq.gov/sites/default/files/wysiwyg/sdoh/SDOH_'+  AHRQCountySDOH_year +'_COUNTY_1_0.xlsx'\n",
    "    r = requests.get(url)\n",
    "    with open('./ahrq.xlsx', 'wb') as f:\n",
    "        f.write(r.content) \n",
    "    dfAHRQCountySDOHnext = pd.read_excel('./ahrq.xlsx', sheet_name = 'Data')\n",
    "    dfAHRQCountySDOHnext = dfAHRQCountySDOHnext.drop(dfAHRQCountySDOHnext.columns[[ 0,1,2,5,6 ]],axis = 1)\n",
    "    dfAHRQCountySDOHnext['YEAR'] =  AHRQCountySDOH_year\n",
    "    dfAHRQCountySDOH = dfAHRQCountySDOH.append(dfAHRQCountySDOHnext)"
   ]
  },
  {
   "cell_type": "markdown",
   "id": "0b50d1d5-1cf8-4fe5-9532-70149201feee",
   "metadata": {},
   "source": [
    "### Clean data\n",
    "Convert to numeric and remove county from names."
   ]
  },
  {
   "cell_type": "code",
   "execution_count": 86,
   "id": "95368a20-b534-43f5-9cf9-9c157695b56a",
   "metadata": {},
   "outputs": [],
   "source": [
    "dfAHRQCountySDOH.iloc[:, 3:] = dfAHRQCountySDOH.iloc[:, 3:].apply(pd.to_numeric, errors= 'ignore')\n",
    "dfAHRQCountySDOH['COUNTY'] = dfAHRQCountySDOH['COUNTY'].str.replace(' County','')"
   ]
  },
  {
   "cell_type": "markdown",
   "id": "14cc78b7-21e8-4911-b1a3-a32c54f61c47",
   "metadata": {},
   "source": [
    "Only include surveys and questions defined in parameters."
   ]
  },
  {
   "cell_type": "code",
   "execution_count": 87,
   "id": "2b05f493-651e-4787-a511-916bb51d8421",
   "metadata": {},
   "outputs": [],
   "source": [
    "dfAHRQCountySDOHred = dfAHRQCountySDOH[[\"STATE\", \"COUNTY\", \"YEAR\"]] \n",
    "\n",
    "dfAHRQCountySDOHsel = dfAHRQCountySDOH[dfAHRQCountySDOH.columns[pd.Series(dfAHRQCountySDOH.columns).str.startswith(tuple(parm_AHRQCountySDOH_surveys))]]\n",
    "dfAHRQCountySDOHred2 = pd.concat([dfAHRQCountySDOHred, dfAHRQCountySDOHsel], axis=1)\n",
    "\n",
    "dfAHRQCountySDOHsel = dfAHRQCountySDOH[parm_AHRQCountySDOH_questions]\n",
    "dfAHRQCountySDOHred = pd.concat([dfAHRQCountySDOHred2, dfAHRQCountySDOHsel], axis=1)\n",
    "dfAHRQCountySDOHnew = dfAHRQCountySDOHred"
   ]
  },
  {
   "cell_type": "markdown",
   "id": "a574baee-8aa8-4b2e-9bc5-8eb02c88160b",
   "metadata": {},
   "source": [
    "### Missing values\n",
    "Data set has many dimensions (about 1000) and comparably low data (about 3000).\n",
    "Remove sparse columns.  KNN imputation may not work well with this shape.\n",
    "May need to review all dimensions."
   ]
  },
  {
   "cell_type": "code",
   "execution_count": 88,
   "id": "bb0b9ee2-5002-43a8-a89b-ad6c70fe09e6",
   "metadata": {},
   "outputs": [],
   "source": [
    "# drop columns that are more than 20% null\n",
    "dfAHRQCountySDOHnew = dfAHRQCountySDOHnew.dropna(axis = 1, thresh=len(dfAHRQCountySDOHnew)*.7)\n",
    "\n",
    "from sklearn.impute import KNNImputer\n",
    "imputer = KNNImputer(n_neighbors=5, weights=\"uniform\")\n",
    "dfAHRQCountySDOHnew.iloc[:,3::] = imputer.fit_transform(dfAHRQCountySDOHnew.iloc[:,3::])"
   ]
  },
  {
   "cell_type": "markdown",
   "id": "6a4456f0-8c6d-4f34-9435-92890e1c14c6",
   "metadata": {},
   "source": [
    "### Load function"
   ]
  },
  {
   "cell_type": "code",
   "execution_count": 89,
   "id": "02647e2f-260e-4b68-b285-c85747ff5d0f",
   "metadata": {},
   "outputs": [
    {
     "ename": "NameError",
     "evalue": "name 'dfCMSChronic' is not defined",
     "output_type": "error",
     "traceback": [
      "\u001b[0;31m---------------------------------------------------------------------------\u001b[0m",
      "\u001b[0;31mNameError\u001b[0m                                 Traceback (most recent call last)",
      "Cell \u001b[0;32mIn [89], line 2\u001b[0m\n\u001b[1;32m      1\u001b[0m \u001b[38;5;66;03m# remove formatting issues by converting YEAR to int\u001b[39;00m\n\u001b[0;32m----> 2\u001b[0m dfCMSChronic[\u001b[38;5;124m\"\u001b[39m\u001b[38;5;124mYEAR\u001b[39m\u001b[38;5;124m\"\u001b[39m] \u001b[38;5;241m=\u001b[39m pd\u001b[38;5;241m.\u001b[39mto_numeric(\u001b[43mdfCMSChronic\u001b[49m[\u001b[38;5;124m\"\u001b[39m\u001b[38;5;124mYEAR\u001b[39m\u001b[38;5;124m\"\u001b[39m])\n\u001b[1;32m      3\u001b[0m \u001b[38;5;28;01mdef\u001b[39;00m \u001b[38;5;21mout_AHRQCountySDOH\u001b[39m():\n\u001b[1;32m      4\u001b[0m    \u001b[38;5;28;01mreturn\u001b[39;00m dfAHRQCountySDOHnew\n",
      "\u001b[0;31mNameError\u001b[0m: name 'dfCMSChronic' is not defined"
     ]
    }
   ],
   "source": [
    "# remove formatting issues by converting YEAR to int\n",
    "dfCMSChronic[\"YEAR\"] = pd.to_numeric(dfCMSChronic[\"YEAR\"])\n",
    "def out_AHRQCountySDOH():\n",
    "   return dfAHRQCountySDOHnew"
   ]
  },
  {
   "cell_type": "code",
   "execution_count": null,
   "id": "a84d2329-8829-412c-a48b-aa5827005e9d",
   "metadata": {},
   "outputs": [],
   "source": []
  }
 ],
 "metadata": {
  "kernelspec": {
   "display_name": "Python 3",
   "language": "python",
   "name": "python3"
  },
  "language_info": {
   "codemirror_mode": {
    "name": "ipython",
    "version": 3
   },
   "file_extension": ".py",
   "mimetype": "text/x-python",
   "name": "python",
   "nbconvert_exporter": "python",
   "pygments_lexer": "ipython3",
   "version": "3.9.12"
  }
 },
 "nbformat": 4,
 "nbformat_minor": 5
}
